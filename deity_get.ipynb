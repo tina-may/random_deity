{
 "cells": [
  {
   "cell_type": "code",
   "execution_count": 7,
   "metadata": {},
   "outputs": [
    {
     "name": "stdout",
     "output_type": "stream",
     "text": [
      "random deity: Praxidike -- goddess of judicial punishment\n"
     ]
    }
   ],
   "source": [
    "import random\n",
    "import csv\n",
    "choices = []\n",
    "with open (\"query.tsv\") as q:\n",
    "    qreader = csv.DictReader(q,delimiter=\"\\t\")\n",
    "    for line in qreader:\n",
    "        descrip = line[\"itemDescription\"].strip()\n",
    "        if descrip != \"\":\n",
    "            descrip = \" -- \" + descrip\n",
    "        choices.append(line[\"itemLabel\"] + descrip)\n",
    "choice = random.choice(choices)\n",
    "print(\"random deity: \" + choice)"
   ]
  },
  {
   "cell_type": "code",
   "execution_count": null,
   "metadata": {},
   "outputs": [],
   "source": []
  }
 ],
 "metadata": {
  "kernelspec": {
   "display_name": "Python 3 (ipykernel)",
   "language": "python",
   "name": "python3"
  },
  "language_info": {
   "codemirror_mode": {
    "name": "ipython",
    "version": 3
   },
   "file_extension": ".py",
   "mimetype": "text/x-python",
   "name": "python",
   "nbconvert_exporter": "python",
   "pygments_lexer": "ipython3",
   "version": "3.9.13"
  }
 },
 "nbformat": 4,
 "nbformat_minor": 1
}
